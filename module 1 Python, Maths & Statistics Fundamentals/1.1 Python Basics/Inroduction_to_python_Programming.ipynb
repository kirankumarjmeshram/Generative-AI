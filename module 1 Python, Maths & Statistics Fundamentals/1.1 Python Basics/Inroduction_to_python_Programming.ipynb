{
  "nbformat": 4,
  "nbformat_minor": 0,
  "metadata": {
    "colab": {
      "provenance": [],
      "authorship_tag": "ABX9TyOJVOGi7FQ/G6CjIwERIXBa",
      "include_colab_link": true
    },
    "kernelspec": {
      "name": "python3",
      "display_name": "Python 3"
    },
    "language_info": {
      "name": "python"
    }
  },
  "cells": [
    {
      "cell_type": "markdown",
      "metadata": {
        "id": "view-in-github",
        "colab_type": "text"
      },
      "source": [
        "<a href=\"https://colab.research.google.com/github/kirankumarjmeshram/Generative-AI/blob/main/module%201%20Python%2C%20Maths%20%26%20Statistics%20Fundamentals/1.1%20Python%20Basics/Inroduction_to_python_Programming.ipynb\" target=\"_parent\"><img src=\"https://colab.research.google.com/assets/colab-badge.svg\" alt=\"Open In Colab\"/></a>"
      ]
    },
    {
      "cell_type": "code",
      "execution_count": null,
      "metadata": {
        "id": "ZmBsfcme4OX0"
      },
      "outputs": [],
      "source": []
    }
  ]
}